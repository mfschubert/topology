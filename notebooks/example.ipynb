{
 "cells": [
  {
   "cell_type": "code",
   "execution_count": null,
   "id": "f41f694f",
   "metadata": {},
   "outputs": [],
   "source": [
    "import dataclasses\n",
    "import functools\n",
    "\n",
    "import cv2\n",
    "import matplotlib.pyplot as plt\n",
    "import numpy as onp\n",
    "from scipy import ndimage\n",
    "\n",
    "from importlib import reload\n",
    "\n",
    "from tometrics import metrics\n",
    "from tometrics import shapes"
   ]
  },
  {
   "cell_type": "code",
   "execution_count": null,
   "id": "ef8ee2c8",
   "metadata": {},
   "outputs": [],
   "source": [
    "onp.random.seed(0)\n",
    "angles = onp.random.rand(20) * 2 * onp.pi\n",
    "results = []\n",
    "\n",
    "for diameter in range(1, 30):\n",
    "    for angle in angles:\n",
    "        array = shapes.rounded_angled_rectangle(\n",
    "            width=50,\n",
    "            height=30,\n",
    "            diameter=diameter,\n",
    "            angle=angle,\n",
    "            padding=5,\n",
    "        )\n",
    "        min_width_solid, min_width_void = metrics.minimum_length_scale(\n",
    "            array,\n",
    "            ignore_scheme=metrics.IgnoreScheme.NONE,\n",
    "        )\n",
    "        results.append((diameter, min_width_solid, min_width_void))"
   ]
  },
  {
   "cell_type": "code",
   "execution_count": null,
   "id": "171548fa",
   "metadata": {},
   "outputs": [],
   "source": [
    "d, mws, msv = zip(*results)\n",
    "\n",
    "plt.plot([min(d), max(d)], [min(d), max(d)])\n",
    "plt.plot(d, mws, \"o\")\n",
    "\n",
    "plt.xlabel(\"Declared diameter\")\n",
    "plt.ylabel(\"Measured length scale\")"
   ]
  }
 ],
 "metadata": {
  "kernelspec": {
   "display_name": "Python 3 (ipykernel)",
   "language": "python",
   "name": "python3"
  },
  "language_info": {
   "codemirror_mode": {
    "name": "ipython",
    "version": 3
   },
   "file_extension": ".py",
   "mimetype": "text/x-python",
   "name": "python",
   "nbconvert_exporter": "python",
   "pygments_lexer": "ipython3",
   "version": "3.10.12"
  }
 },
 "nbformat": 4,
 "nbformat_minor": 5
}
